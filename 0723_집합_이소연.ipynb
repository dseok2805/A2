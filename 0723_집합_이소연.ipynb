{
 "cells": [
  {
   "cell_type": "markdown",
   "id": "ab8f38f5-6453-4c2c-bcd5-b4f8440ff7f7",
   "metadata": {},
   "source": [
    "## 집합"
   ]
  },
  {
   "cell_type": "markdown",
   "id": "c4f18d1d-119f-4825-a273-e67822d50d12",
   "metadata": {},
   "source": [
    "순서 없이 중복 없이 사용"
   ]
  },
  {
   "cell_type": "code",
   "execution_count": 1,
   "id": "b548b16a-90d4-4e30-983d-a6ed6f09abc0",
   "metadata": {},
   "outputs": [],
   "source": [
    "s1 = set([1,2,3,3,3,4,2])"
   ]
  },
  {
   "cell_type": "markdown",
   "id": "ea6d113c-35e1-410e-92d7-1b0167221e2f",
   "metadata": {},
   "source": [
    "리스트 기반, 중복들이 모두 제거되는 것을 볼 수 있음"
   ]
  },
  {
   "cell_type": "code",
   "execution_count": 2,
   "id": "f0959de1-04a0-4f95-ba4f-135d5746b908",
   "metadata": {},
   "outputs": [
    {
     "data": {
      "text/plain": [
       "{1, 2, 3, 4}"
      ]
     },
     "execution_count": 2,
     "metadata": {},
     "output_type": "execute_result"
    }
   ],
   "source": [
    "s1"
   ]
  },
  {
   "cell_type": "code",
   "execution_count": 3,
   "id": "636081e5-7587-4bc3-a612-ca3ee7019c62",
   "metadata": {},
   "outputs": [
    {
     "name": "stdout",
     "output_type": "stream",
     "text": [
      "{1, 2, 3, 4}\n"
     ]
    }
   ],
   "source": [
    "print(s1)"
   ]
  },
  {
   "cell_type": "code",
   "execution_count": 4,
   "id": "e5a22e30-c460-4aa8-8dc8-44610abab9d6",
   "metadata": {},
   "outputs": [],
   "source": [
    "s2 = {3,4,5}"
   ]
  },
  {
   "cell_type": "code",
   "execution_count": 5,
   "id": "888eb1b1-5d9d-4219-8f1a-dbc3df1df64a",
   "metadata": {},
   "outputs": [
    {
     "name": "stdout",
     "output_type": "stream",
     "text": [
      "{3, 4, 5}\n"
     ]
    }
   ],
   "source": [
    "print(s2)"
   ]
  },
  {
   "cell_type": "code",
   "execution_count": 6,
   "id": "39758b38-fa56-43af-9d7b-f77c3c4049bc",
   "metadata": {},
   "outputs": [],
   "source": [
    "word = \"Hello\" * 2"
   ]
  },
  {
   "cell_type": "code",
   "execution_count": 7,
   "id": "2cad5bbc-b8c0-4dff-ad0a-df7221618295",
   "metadata": {},
   "outputs": [
    {
     "data": {
      "text/plain": [
       "'HelloHello'"
      ]
     },
     "execution_count": 7,
     "metadata": {},
     "output_type": "execute_result"
    }
   ],
   "source": [
    "word"
   ]
  },
  {
   "cell_type": "code",
   "execution_count": 8,
   "id": "22dcb187-f5cc-454d-adbf-e8419634bd40",
   "metadata": {},
   "outputs": [],
   "source": [
    "word_list = list(word)"
   ]
  },
  {
   "cell_type": "code",
   "execution_count": 9,
   "id": "7d5540c6-1cfd-44f9-a178-35bab5691f12",
   "metadata": {},
   "outputs": [
    {
     "data": {
      "text/plain": [
       "['H', 'e', 'l', 'l', 'o', 'H', 'e', 'l', 'l', 'o']"
      ]
     },
     "execution_count": 9,
     "metadata": {},
     "output_type": "execute_result"
    }
   ],
   "source": [
    "word_list"
   ]
  },
  {
   "cell_type": "code",
   "execution_count": 14,
   "id": "7dfdf73c-f2e5-4278-b9a2-9700156d6bc2",
   "metadata": {},
   "outputs": [],
   "source": [
    "s3 = set(word_list)"
   ]
  },
  {
   "cell_type": "markdown",
   "id": "2224679f-29d2-4963-b6f7-3ed2fe364483",
   "metadata": {},
   "source": [
    "set을 사용하니까 중복이 제거됨을 알 수 있음"
   ]
  },
  {
   "cell_type": "code",
   "execution_count": 11,
   "id": "0ec354eb-ebc5-4834-ac30-eb2b93ed0b15",
   "metadata": {},
   "outputs": [
    {
     "data": {
      "text/plain": [
       "{'H', 'e', 'l', 'o'}"
      ]
     },
     "execution_count": 11,
     "metadata": {},
     "output_type": "execute_result"
    }
   ],
   "source": [
    "s3"
   ]
  },
  {
   "cell_type": "code",
   "execution_count": 12,
   "id": "a8b90668-db00-4038-8775-555905c7c449",
   "metadata": {},
   "outputs": [],
   "source": [
    "s4 = set(\"Hello\")"
   ]
  },
  {
   "cell_type": "markdown",
   "id": "5a219c27-75e3-419b-9d55-d4f1f35c2fae",
   "metadata": {},
   "source": [
    "문자열 기반"
   ]
  },
  {
   "cell_type": "code",
   "execution_count": 13,
   "id": "66d7c1d8-e7d0-425a-bb1b-91c35606046d",
   "metadata": {},
   "outputs": [
    {
     "data": {
      "text/plain": [
       "{'H', 'e', 'l', 'o'}"
      ]
     },
     "execution_count": 13,
     "metadata": {},
     "output_type": "execute_result"
    }
   ],
   "source": [
    "s4"
   ]
  },
  {
   "cell_type": "markdown",
   "id": "32146fe3-2f88-4cb5-b7ed-7ba63a9f7a15",
   "metadata": {},
   "source": [
    "### 집합 관련 함수 "
   ]
  },
  {
   "cell_type": "code",
   "execution_count": 15,
   "id": "80d7366c-f174-429f-8475-b305aa51b8cd",
   "metadata": {},
   "outputs": [],
   "source": [
    "s = {1,2,3,4,5,3,4}"
   ]
  },
  {
   "cell_type": "code",
   "execution_count": 16,
   "id": "0dfdbae5-1132-4af4-91c9-552c02da6966",
   "metadata": {},
   "outputs": [],
   "source": [
    "s.add(10)"
   ]
  },
  {
   "cell_type": "code",
   "execution_count": 17,
   "id": "7b8ff0df-b44a-4d2a-8b4a-c1a7d023a371",
   "metadata": {},
   "outputs": [
    {
     "name": "stdout",
     "output_type": "stream",
     "text": [
      "{1, 2, 3, 4, 5, 10}\n"
     ]
    }
   ],
   "source": [
    "print(s)"
   ]
  },
  {
   "cell_type": "code",
   "execution_count": 18,
   "id": "a219b2c9-e430-458c-a500-a18b0333df90",
   "metadata": {},
   "outputs": [],
   "source": [
    "s.remove(2)"
   ]
  },
  {
   "cell_type": "markdown",
   "id": "e6558a9c-d57d-4136-a227-e4cfce4e07a6",
   "metadata": {},
   "source": [
    "remove를 호출할 때 넘겨받은 인자가 애초에 set안에 없는 경우에는 에러가 남"
   ]
  },
  {
   "cell_type": "code",
   "execution_count": 19,
   "id": "1d95337c-e298-425b-b845-1d9adbb7a13d",
   "metadata": {},
   "outputs": [
    {
     "data": {
      "text/plain": [
       "{1, 3, 4, 5, 10}"
      ]
     },
     "execution_count": 19,
     "metadata": {},
     "output_type": "execute_result"
    }
   ],
   "source": [
    "s"
   ]
  },
  {
   "cell_type": "code",
   "execution_count": 20,
   "id": "dd42de40-aecd-4007-a6b1-66bde41a3996",
   "metadata": {},
   "outputs": [],
   "source": [
    "s.update([1,3,5,7,9])"
   ]
  },
  {
   "cell_type": "code",
   "execution_count": 21,
   "id": "f5142239-fbe9-47ae-9dfb-0161fce73b0f",
   "metadata": {},
   "outputs": [
    {
     "data": {
      "text/plain": [
       "{1, 3, 4, 5, 7, 9, 10}"
      ]
     },
     "execution_count": 21,
     "metadata": {},
     "output_type": "execute_result"
    }
   ],
   "source": [
    "s"
   ]
  },
  {
   "cell_type": "code",
   "execution_count": 22,
   "id": "b6a0169b-9332-4002-8307-c58791302789",
   "metadata": {},
   "outputs": [],
   "source": [
    "s.discard(7)"
   ]
  },
  {
   "cell_type": "markdown",
   "id": "1f34b2ad-4cd9-49b2-a061-4400e59c9719",
   "metadata": {},
   "source": [
    "원소를 제거하는 또 다른 함수,\n",
    "discard의 경우에는 없는 원소에 대해 실행을 해도 에러가 나지 않음"
   ]
  },
  {
   "cell_type": "code",
   "execution_count": 23,
   "id": "1391eb53-447a-4983-87e3-c99c13c01b8d",
   "metadata": {},
   "outputs": [
    {
     "data": {
      "text/plain": [
       "{1, 3, 4, 5, 9, 10}"
      ]
     },
     "execution_count": 23,
     "metadata": {},
     "output_type": "execute_result"
    }
   ],
   "source": [
    "s"
   ]
  },
  {
   "cell_type": "code",
   "execution_count": 24,
   "id": "90f8eee9-ab42-47e6-bdb0-a717868795ee",
   "metadata": {},
   "outputs": [],
   "source": [
    "s.clear()"
   ]
  },
  {
   "cell_type": "code",
   "execution_count": 25,
   "id": "2e135871-9648-4e97-87d0-754eab58e3e0",
   "metadata": {},
   "outputs": [
    {
     "data": {
      "text/plain": [
       "set()"
      ]
     },
     "execution_count": 25,
     "metadata": {},
     "output_type": "execute_result"
    }
   ],
   "source": [
    "s"
   ]
  },
  {
   "cell_type": "markdown",
   "id": "f5afc3f3-1251-401b-87eb-4472a193970e",
   "metadata": {},
   "source": [
    "### 합집합, 교집합, 차집합\n"
   ]
  },
  {
   "cell_type": "code",
   "execution_count": 26,
   "id": "726db188-82f9-4e0e-ba96-3d8d48bcfbef",
   "metadata": {},
   "outputs": [],
   "source": [
    "s1 = {1,2,3}\n",
    "s2 = {3,4,5}"
   ]
  },
  {
   "cell_type": "code",
   "execution_count": 27,
   "id": "cf7eb2ec-b4de-479e-8431-3d1484431cd9",
   "metadata": {},
   "outputs": [
    {
     "data": {
      "text/plain": [
       "{1, 2, 3, 4, 5}"
      ]
     },
     "execution_count": 27,
     "metadata": {},
     "output_type": "execute_result"
    }
   ],
   "source": [
    "# 합집합\n",
    "s1.union(s2)"
   ]
  },
  {
   "cell_type": "markdown",
   "id": "3e48be7a-2ce0-4890-95ce-708650552378",
   "metadata": {},
   "source": [
    "s1을 수정하는게 아니라 연산한 값을 나타내어 주는 것임"
   ]
  },
  {
   "cell_type": "code",
   "execution_count": 28,
   "id": "19f6daf0-440f-4b5a-82c6-f03d58d29998",
   "metadata": {},
   "outputs": [
    {
     "data": {
      "text/plain": [
       "{3}"
      ]
     },
     "execution_count": 28,
     "metadata": {},
     "output_type": "execute_result"
    }
   ],
   "source": [
    "# 교집합\n",
    "s1.intersection(s2)"
   ]
  },
  {
   "cell_type": "code",
   "execution_count": 29,
   "id": "d90e8c80-1615-4523-b391-9b890993f459",
   "metadata": {},
   "outputs": [
    {
     "data": {
      "text/plain": [
       "{1, 2}"
      ]
     },
     "execution_count": 29,
     "metadata": {},
     "output_type": "execute_result"
    }
   ],
   "source": [
    "# 차집합\n",
    "s1.difference(s2)"
   ]
  },
  {
   "cell_type": "code",
   "execution_count": 30,
   "id": "d1a5c27c-9756-4c74-bbc2-6cd883c4d139",
   "metadata": {},
   "outputs": [
    {
     "data": {
      "text/plain": [
       "{1, 2, 3, 4, 5}"
      ]
     },
     "execution_count": 30,
     "metadata": {},
     "output_type": "execute_result"
    }
   ],
   "source": [
    "# 합집합(|)\n",
    "s1|s2"
   ]
  },
  {
   "cell_type": "code",
   "execution_count": 31,
   "id": "c4580bee-b7de-44da-b01d-7744a9d62a9b",
   "metadata": {},
   "outputs": [
    {
     "data": {
      "text/plain": [
       "{3}"
      ]
     },
     "execution_count": 31,
     "metadata": {},
     "output_type": "execute_result"
    }
   ],
   "source": [
    "# 교집합(&)\n",
    "s1&s2"
   ]
  },
  {
   "cell_type": "code",
   "execution_count": 32,
   "id": "9437a28a-e89d-4790-9350-1274e593dd04",
   "metadata": {},
   "outputs": [
    {
     "data": {
      "text/plain": [
       "{1, 2}"
      ]
     },
     "execution_count": 32,
     "metadata": {},
     "output_type": "execute_result"
    }
   ],
   "source": [
    "# 차집합(-)\n",
    "s1-s2"
   ]
  },
  {
   "cell_type": "markdown",
   "id": "884b5f3c-bbfc-49b9-9ec3-cc7f5f18e681",
   "metadata": {},
   "source": [
    "실습1: 2개의 행사에 각각 참가한 명단이 주어질 때, 두 행사 모두 참가한 학생과 오직 한 행사에만 참가한 학생들의 명단을 구하여 반환하는 함수를 작성하시오"
   ]
  },
  {
   "cell_type": "code",
   "execution_count": 33,
   "id": "35861fea-f51f-41fd-a578-d79cbfe44ad1",
   "metadata": {},
   "outputs": [],
   "source": [
    "A = {'Alice', 'Bob', 'Charlie', 'David'}\n",
    "B = {'Alice', 'Ella', 'Frank', 'Bob'}\n",
    "C = {'George', 'Ella'}"
   ]
  },
  {
   "cell_type": "code",
   "execution_count": 43,
   "id": "43139db4-6ab1-42a1-882c-a66da5ee9c70",
   "metadata": {},
   "outputs": [
    {
     "name": "stdout",
     "output_type": "stream",
     "text": [
      "{'Alice', 'Bob'} {'Frank', 'Charlie', 'Ella', 'David'}\n",
      "set() {'George', 'Charlie', 'Alice', 'Ella', 'David', 'Bob'}\n"
     ]
    }
   ],
   "source": [
    "both1, one1 = find_participants(A, B)\n",
    "both2, one2 = find_participants(A, C)\n",
    "print(both1, one1) # {'Alice', 'Bob'} {'Ella', 'David', 'Frank', 'Charlie'}\n",
    "print(both2, one2) # set() {'David', 'Bob', 'Charlie', 'George', 'Alice', 'Ella'}"
   ]
  },
  {
   "cell_type": "code",
   "execution_count": 42,
   "id": "fc4198d4-b225-40f5-a0c5-a1c68ce01990",
   "metadata": {},
   "outputs": [],
   "source": [
    "def find_participants(p1, p2):\n",
    "    both = p1&p2\n",
    "    one = (p1|p2)-(p1&p2)\n",
    "    return both, one"
   ]
  },
  {
   "cell_type": "markdown",
   "id": "bddb01ea-be68-465f-afcc-fe0be21993c7",
   "metadata": {},
   "source": [
    "### 딕셔너리"
   ]
  },
  {
   "cell_type": "markdown",
   "id": "e2ff1109-d6e8-4d05-a089-2ebc88ba19cc",
   "metadata": {},
   "source": [
    "- 중괄호{}로 묶여 있으며, Key와 Value의 쌍으로 이루어짐 (쌍이 하나의 원소가 됨)\n",
    "  d = {key:value1, key2:value2}\n",
    "- key로 value를 관리\n",
    "  key는 중복될 수 없음. (별표 별표) 예) 학번, 주민번호\n",
    "- 항목들 사이에 순서가 없음"
   ]
  },
  {
   "cell_type": "code",
   "execution_count": 44,
   "id": "8f0612fc-1129-4868-b670-941f31148fda",
   "metadata": {},
   "outputs": [],
   "source": [
    "d = {}"
   ]
  },
  {
   "cell_type": "code",
   "execution_count": 45,
   "id": "dcdd6e7e-863e-42f1-95bb-bbc1fde95653",
   "metadata": {},
   "outputs": [],
   "source": [
    "d['kim'] = 1  # 새 항목 추가\n",
    "d['park'] = 2  # 새 항목 추가"
   ]
  },
  {
   "cell_type": "code",
   "execution_count": 46,
   "id": "4e0aba7f-46b1-4ea4-bb9e-d295ab42a25d",
   "metadata": {},
   "outputs": [
    {
     "name": "stdout",
     "output_type": "stream",
     "text": [
      "{'kim': 1, 'park': 2}\n"
     ]
    }
   ],
   "source": [
    "print(d)"
   ]
  },
  {
   "cell_type": "code",
   "execution_count": 47,
   "id": "f0833006-0026-4ea7-80f1-da57e8e92b32",
   "metadata": {},
   "outputs": [
    {
     "data": {
      "text/plain": [
       "2"
      ]
     },
     "execution_count": 47,
     "metadata": {},
     "output_type": "execute_result"
    }
   ],
   "source": [
    "d['park']  # 키(key)를 사용하여 값에 접근"
   ]
  },
  {
   "cell_type": "code",
   "execution_count": 49,
   "id": "b5f5ee81-05d5-4dd7-8574-78da2433ed8c",
   "metadata": {},
   "outputs": [],
   "source": [
    "d['kim'] = 3  # 이미 있는 키의 경우 기존 값 변경"
   ]
  },
  {
   "cell_type": "code",
   "execution_count": 50,
   "id": "e0e2bc68-ac51-43ff-890c-b5efbbef2a92",
   "metadata": {},
   "outputs": [
    {
     "data": {
      "text/plain": [
       "{'kim': 3, 'park': 2}"
      ]
     },
     "execution_count": 50,
     "metadata": {},
     "output_type": "execute_result"
    }
   ],
   "source": [
    "d"
   ]
  },
  {
   "cell_type": "code",
   "execution_count": 51,
   "id": "b0e152a1-4526-4cac-befc-8e376fdac5a1",
   "metadata": {},
   "outputs": [],
   "source": [
    "d['youn'] = 1  # 새 항목 추가"
   ]
  },
  {
   "cell_type": "code",
   "execution_count": 52,
   "id": "500a3447-5892-4f00-b9e9-aef8dcb6af9e",
   "metadata": {},
   "outputs": [
    {
     "data": {
      "text/plain": [
       "{'kim': 3, 'park': 2, 'youn': 1}"
      ]
     },
     "execution_count": 52,
     "metadata": {},
     "output_type": "execute_result"
    }
   ],
   "source": [
    "d"
   ]
  },
  {
   "cell_type": "code",
   "execution_count": 53,
   "id": "16c04339-9d80-413c-be9d-519752eed5e1",
   "metadata": {},
   "outputs": [
    {
     "data": {
      "text/plain": [
       "dict_keys(['kim', 'park', 'youn'])"
      ]
     },
     "execution_count": 53,
     "metadata": {},
     "output_type": "execute_result"
    }
   ],
   "source": [
    "d.keys()  # 키만 추출"
   ]
  },
  {
   "cell_type": "code",
   "execution_count": 54,
   "id": "2e0a73fd-d838-4a9e-8434-c6bf25e0e607",
   "metadata": {},
   "outputs": [
    {
     "data": {
      "text/plain": [
       "dict_values([3, 2, 1])"
      ]
     },
     "execution_count": 54,
     "metadata": {},
     "output_type": "execute_result"
    }
   ],
   "source": [
    "d.values()  # 값만 추출"
   ]
  },
  {
   "cell_type": "code",
   "execution_count": 55,
   "id": "84b5d579-5bc0-4999-ad53-5a273487d9e5",
   "metadata": {},
   "outputs": [
    {
     "data": {
      "text/plain": [
       "dict_items([('kim', 3), ('park', 2), ('youn', 1)])"
      ]
     },
     "execution_count": 55,
     "metadata": {},
     "output_type": "execute_result"
    }
   ],
   "source": [
    "d.items()  # 키와 값의 항목을 튜플 형태로 "
   ]
  },
  {
   "cell_type": "code",
   "execution_count": 56,
   "id": "68536662-5f2e-4994-a9d3-55bdb8f50b7a",
   "metadata": {},
   "outputs": [
    {
     "data": {
      "text/plain": [
       "True"
      ]
     },
     "execution_count": 56,
     "metadata": {},
     "output_type": "execute_result"
    }
   ],
   "source": [
    "'kim' in d  # 딕셔너리가 키에 있는 경우"
   ]
  },
  {
   "cell_type": "code",
   "execution_count": 57,
   "id": "eb0630fd-4da3-4def-b106-783295f1235e",
   "metadata": {},
   "outputs": [],
   "source": [
    "del d['kim']  # 항목 삭제"
   ]
  },
  {
   "cell_type": "code",
   "execution_count": 58,
   "id": "daff70a3-b941-4335-a166-9a212113ad5a",
   "metadata": {},
   "outputs": [
    {
     "data": {
      "text/plain": [
       "{'park': 2, 'youn': 1}"
      ]
     },
     "execution_count": 58,
     "metadata": {},
     "output_type": "execute_result"
    }
   ],
   "source": [
    "d"
   ]
  },
  {
   "cell_type": "code",
   "execution_count": 59,
   "id": "869f9f3b-0e48-4027-8d6d-9aaaa8a7d730",
   "metadata": {},
   "outputs": [],
   "source": [
    "d.clear()  # 전체 삭제"
   ]
  },
  {
   "cell_type": "code",
   "execution_count": 60,
   "id": "3d329efd-effa-402e-a39d-292dd8b3563d",
   "metadata": {},
   "outputs": [
    {
     "data": {
      "text/plain": [
       "{}"
      ]
     },
     "execution_count": 60,
     "metadata": {},
     "output_type": "execute_result"
    }
   ],
   "source": [
    "d"
   ]
  },
  {
   "cell_type": "markdown",
   "id": "86597f7b-6a67-420f-83a6-cb4b10d8d8d2",
   "metadata": {},
   "source": [
    "실습2: 딕셔너리, for 문을 사용하여 아래 딕셔너리 d의 모든 value를 출력해 보세요."
   ]
  },
  {
   "cell_type": "code",
   "execution_count": 18,
   "id": "f6443710-cb00-4527-bf9d-c91e2e982bf5",
   "metadata": {},
   "outputs": [],
   "source": [
    "d = {'kim': 3, 'park': 2, 'youn': 1}"
   ]
  },
  {
   "cell_type": "code",
   "execution_count": 69,
   "id": "fc2ef308-3d2f-4197-a9b6-92d32d7d8024",
   "metadata": {},
   "outputs": [
    {
     "name": "stdout",
     "output_type": "stream",
     "text": [
      "[3, 2, 1]\n"
     ]
    }
   ],
   "source": [
    "a = []\n",
    "for i in d:\n",
    "    a.append(d[i])\n",
    "print(a)"
   ]
  },
  {
   "cell_type": "code",
   "execution_count": 70,
   "id": "28e2e273-dc7d-4a6a-a8bd-c6735535fa4d",
   "metadata": {},
   "outputs": [
    {
     "name": "stdout",
     "output_type": "stream",
     "text": [
      "3\n",
      "2\n",
      "1\n"
     ]
    }
   ],
   "source": [
    "for i in d:\n",
    "    print(d[i])"
   ]
  },
  {
   "cell_type": "code",
   "execution_count": 23,
   "id": "c2ce55df-20af-438e-be7a-b04c408df0ab",
   "metadata": {},
   "outputs": [
    {
     "name": "stdout",
     "output_type": "stream",
     "text": [
      "3 2 1 "
     ]
    }
   ],
   "source": [
    "for i in d.values():\n",
    "    print(i, end=\" \")  # 일렬로 나타내고 싶을 때 이렇게 end = \" \"를 사용"
   ]
  },
  {
   "cell_type": "markdown",
   "id": "8d8f8d2a-77d0-4535-b8f7-caab87689d4e",
   "metadata": {},
   "source": [
    "실습3: 어떤 문장을 입력 받으면 해당 문장에서 각 문자가 몇 개씩 나오는지 저장하는 딕셔너리를 만든 후, 아래와 같이 출력하시오."
   ]
  },
  {
   "cell_type": "code",
   "execution_count": 12,
   "id": "f205af81-55e2-4492-98d1-dd80e704f952",
   "metadata": {},
   "outputs": [
    {
     "name": "stdin",
     "output_type": "stream",
     "text": [
      "Enter a sentence:  Python is fun!\n"
     ]
    }
   ],
   "source": [
    "sentence = input(\"Enter a sentence: \")"
   ]
  },
  {
   "cell_type": "code",
   "execution_count": 13,
   "id": "a2b9bd01-2bdc-4598-9169-a2f7dca577c0",
   "metadata": {},
   "outputs": [
    {
     "data": {
      "text/plain": [
       "'Python is fun!'"
      ]
     },
     "execution_count": 13,
     "metadata": {},
     "output_type": "execute_result"
    }
   ],
   "source": [
    "sentence"
   ]
  },
  {
   "cell_type": "code",
   "execution_count": 14,
   "id": "f9236c1c-532e-41e0-805e-5abc2edc523f",
   "metadata": {},
   "outputs": [],
   "source": [
    "dic = {}"
   ]
  },
  {
   "cell_type": "code",
   "execution_count": 22,
   "id": "0f0dc83e-dba6-4ccf-875b-a5b9e9aa8add",
   "metadata": {},
   "outputs": [
    {
     "name": "stdout",
     "output_type": "stream",
     "text": [
      "{'P': 1, 'y': 1, 't': 1, 'h': 1, 'o': 1, 'n': 2, ' ': 2, 'i': 1, 's': 1, 'f': 1, 'u': 1, '!': 1} "
     ]
    }
   ],
   "source": [
    "for i in range(len(sentence)):\n",
    "    dic[sentence[i]] = sentence.count(sentence[i])\n",
    "print(dic, end=\" \")"
   ]
  },
  {
   "cell_type": "code",
   "execution_count": 24,
   "id": "4e7a2bc0-8bca-4eec-a4ed-8aad77db9c66",
   "metadata": {},
   "outputs": [
    {
     "name": "stdin",
     "output_type": "stream",
     "text": [
      "Enter a sentence:  Python is fun\n"
     ]
    }
   ],
   "source": [
    "sentence = input(\"Enter a sentence: \")"
   ]
  },
  {
   "cell_type": "code",
   "execution_count": 25,
   "id": "04ea8d3e-d49b-438f-9253-55edba499bb2",
   "metadata": {},
   "outputs": [],
   "source": [
    "# 존재하는 문자들 계산\n",
    "words = set(sentence)"
   ]
  },
  {
   "cell_type": "code",
   "execution_count": 26,
   "id": "e01f79cf-7755-45d0-afe3-a83845b3379f",
   "metadata": {},
   "outputs": [
    {
     "data": {
      "text/plain": [
       "{' ', 'P', 'f', 'h', 'i', 'n', 'o', 's', 't', 'u', 'y'}"
      ]
     },
     "execution_count": 26,
     "metadata": {},
     "output_type": "execute_result"
    }
   ],
   "source": [
    "words"
   ]
  },
  {
   "cell_type": "code",
   "execution_count": 27,
   "id": "06e973b4-ee2d-4746-9632-4e919fef78f5",
   "metadata": {},
   "outputs": [],
   "source": [
    "# 각 문자가 나타나는 횟수 계산 (문자열의 count() 함수 이용)"
   ]
  },
  {
   "cell_type": "code",
   "execution_count": 32,
   "id": "8fbf2a0f-dd22-49ad-9aa1-305d1ec36783",
   "metadata": {},
   "outputs": [],
   "source": [
    "d = {}\n",
    "for i in words:\n",
    "    c = sentence.count(i)\n",
    "    d[i] = c"
   ]
  },
  {
   "cell_type": "code",
   "execution_count": 33,
   "id": "2a3c0c33-f832-4efb-ac94-961edd0a4878",
   "metadata": {},
   "outputs": [
    {
     "data": {
      "text/plain": [
       "{'n': 2,\n",
       " 's': 1,\n",
       " 'o': 1,\n",
       " ' ': 2,\n",
       " 'i': 1,\n",
       " 'u': 1,\n",
       " 't': 1,\n",
       " 'f': 1,\n",
       " 'P': 1,\n",
       " 'y': 1,\n",
       " 'h': 1}"
      ]
     },
     "execution_count": 33,
     "metadata": {},
     "output_type": "execute_result"
    }
   ],
   "source": [
    "d"
   ]
  },
  {
   "cell_type": "code",
   "execution_count": null,
   "id": "0ff996c5-23a7-4c7e-a28e-6f3a5a0b1cf3",
   "metadata": {},
   "outputs": [],
   "source": []
  }
 ],
 "metadata": {
  "kernelspec": {
   "display_name": "Python 3 (ipykernel)",
   "language": "python",
   "name": "python3"
  },
  "language_info": {
   "codemirror_mode": {
    "name": "ipython",
    "version": 3
   },
   "file_extension": ".py",
   "mimetype": "text/x-python",
   "name": "python",
   "nbconvert_exporter": "python",
   "pygments_lexer": "ipython3",
   "version": "3.12.4"
  }
 },
 "nbformat": 4,
 "nbformat_minor": 5
}
